{
 "cells": [
  {
   "cell_type": "markdown",
   "metadata": {},
   "source": [
    "# 1. Importing the required library\n",
    "##### import pandas as pd: Used for data manipulation and analysis\n",
    "##### import numpy as np: Used for numerical computations, handling arrays, and mathematical functions\n",
    "##### import matplotlib.pyplot as plt: Used for data visualization, particularly plotting graphs\n",
    "##### import seaborn as sns: Used for statistical data visualization based on matplotlib"
   ]
  },
  {
   "cell_type": "code",
   "execution_count": 12,
   "metadata": {},
   "outputs": [],
   "source": [
    "import pandas as pd\n",
    "import numpy as np\n",
    "import matplotlib.pyplot as plt\n",
    "import seaborn as sns\n"
   ]
  },
  {
   "cell_type": "markdown",
   "metadata": {},
   "source": [
    "### pd.read_csv(): This function is used to read data from a CSV file and convert it into a pandas DataFrame, which makes it easier to manipulate and analyze."
   ]
  },
  {
   "cell_type": "code",
   "execution_count": 13,
   "metadata": {},
   "outputs": [],
   "source": [
    "df = pd.read_csv (r\"C:\\Users\\sirmu\\OneDrive\\Desktop\\For Portfolio\\Hapetatis data.csv\")"
   ]
  },
  {
   "cell_type": "code",
   "execution_count": 14,
   "metadata": {},
   "outputs": [
    {
     "data": {
      "text/html": [
       "<div>\n",
       "<style scoped>\n",
       "    .dataframe tbody tr th:only-of-type {\n",
       "        vertical-align: middle;\n",
       "    }\n",
       "\n",
       "    .dataframe tbody tr th {\n",
       "        vertical-align: top;\n",
       "    }\n",
       "\n",
       "    .dataframe thead th {\n",
       "        text-align: right;\n",
       "    }\n",
       "</style>\n",
       "<table border=\"1\" class=\"dataframe\">\n",
       "  <thead>\n",
       "    <tr style=\"text-align: right;\">\n",
       "      <th></th>\n",
       "      <th>IND_ID</th>\n",
       "      <th>IND_CODE</th>\n",
       "      <th>IND_UUID</th>\n",
       "      <th>IND_PER_CODE</th>\n",
       "      <th>DIM_TIME</th>\n",
       "      <th>DIM_TIME_TYPE</th>\n",
       "      <th>DIM_GEO_CODE_M49</th>\n",
       "      <th>DIM_GEO_CODE_TYPE</th>\n",
       "      <th>DIM_PUBLISH_STATE_CODE</th>\n",
       "      <th>IND_NAME</th>\n",
       "      <th>GEO_NAME_SHORT</th>\n",
       "      <th>RATE_PER_100_N</th>\n",
       "      <th>RATE_PER_100_NL</th>\n",
       "      <th>RATE_PER_100_NU</th>\n",
       "    </tr>\n",
       "  </thead>\n",
       "  <tbody>\n",
       "    <tr>\n",
       "      <th>0</th>\n",
       "      <td>F513188SDGHEPHBSAGPRV</td>\n",
       "      <td>SDGHEPHBSAGPRV</td>\n",
       "      <td>F513188</td>\n",
       "      <td>SDGHEPHBSAGPRV</td>\n",
       "      <td>2020</td>\n",
       "      <td>YEAR</td>\n",
       "      <td>440</td>\n",
       "      <td>COUNTRY</td>\n",
       "      <td>PUBLISHED</td>\n",
       "      <td>Hepatitis B surface antigen (HBsAg) in childre...</td>\n",
       "      <td>Lithuania</td>\n",
       "      <td>0.05</td>\n",
       "      <td>0.03</td>\n",
       "      <td>0.07</td>\n",
       "    </tr>\n",
       "    <tr>\n",
       "      <th>1</th>\n",
       "      <td>F513188SDGHEPHBSAGPRV</td>\n",
       "      <td>SDGHEPHBSAGPRV</td>\n",
       "      <td>F513188</td>\n",
       "      <td>SDGHEPHBSAGPRV</td>\n",
       "      <td>2020</td>\n",
       "      <td>YEAR</td>\n",
       "      <td>478</td>\n",
       "      <td>COUNTRY</td>\n",
       "      <td>PUBLISHED</td>\n",
       "      <td>Hepatitis B surface antigen (HBsAg) in childre...</td>\n",
       "      <td>Mauritania</td>\n",
       "      <td>3.35</td>\n",
       "      <td>2.74</td>\n",
       "      <td>4.13</td>\n",
       "    </tr>\n",
       "    <tr>\n",
       "      <th>2</th>\n",
       "      <td>F513188SDGHEPHBSAGPRV</td>\n",
       "      <td>SDGHEPHBSAGPRV</td>\n",
       "      <td>F513188</td>\n",
       "      <td>SDGHEPHBSAGPRV</td>\n",
       "      <td>2020</td>\n",
       "      <td>YEAR</td>\n",
       "      <td>352</td>\n",
       "      <td>COUNTRY</td>\n",
       "      <td>PUBLISHED</td>\n",
       "      <td>Hepatitis B surface antigen (HBsAg) in childre...</td>\n",
       "      <td>Iceland</td>\n",
       "      <td>0.15</td>\n",
       "      <td>0.05</td>\n",
       "      <td>0.40</td>\n",
       "    </tr>\n",
       "    <tr>\n",
       "      <th>3</th>\n",
       "      <td>F513188SDGHEPHBSAGPRV</td>\n",
       "      <td>SDGHEPHBSAGPRV</td>\n",
       "      <td>F513188</td>\n",
       "      <td>SDGHEPHBSAGPRV</td>\n",
       "      <td>2020</td>\n",
       "      <td>YEAR</td>\n",
       "      <td>788</td>\n",
       "      <td>COUNTRY</td>\n",
       "      <td>PUBLISHED</td>\n",
       "      <td>Hepatitis B surface antigen (HBsAg) in childre...</td>\n",
       "      <td>Tunisia</td>\n",
       "      <td>0.12</td>\n",
       "      <td>0.10</td>\n",
       "      <td>0.16</td>\n",
       "    </tr>\n",
       "  </tbody>\n",
       "</table>\n",
       "</div>"
      ],
      "text/plain": [
       "                  IND_ID        IND_CODE IND_UUID    IND_PER_CODE  DIM_TIME  \\\n",
       "0  F513188SDGHEPHBSAGPRV  SDGHEPHBSAGPRV  F513188  SDGHEPHBSAGPRV      2020   \n",
       "1  F513188SDGHEPHBSAGPRV  SDGHEPHBSAGPRV  F513188  SDGHEPHBSAGPRV      2020   \n",
       "2  F513188SDGHEPHBSAGPRV  SDGHEPHBSAGPRV  F513188  SDGHEPHBSAGPRV      2020   \n",
       "3  F513188SDGHEPHBSAGPRV  SDGHEPHBSAGPRV  F513188  SDGHEPHBSAGPRV      2020   \n",
       "\n",
       "  DIM_TIME_TYPE  DIM_GEO_CODE_M49 DIM_GEO_CODE_TYPE DIM_PUBLISH_STATE_CODE  \\\n",
       "0          YEAR               440           COUNTRY              PUBLISHED   \n",
       "1          YEAR               478           COUNTRY              PUBLISHED   \n",
       "2          YEAR               352           COUNTRY              PUBLISHED   \n",
       "3          YEAR               788           COUNTRY              PUBLISHED   \n",
       "\n",
       "                                            IND_NAME GEO_NAME_SHORT  \\\n",
       "0  Hepatitis B surface antigen (HBsAg) in childre...      Lithuania   \n",
       "1  Hepatitis B surface antigen (HBsAg) in childre...     Mauritania   \n",
       "2  Hepatitis B surface antigen (HBsAg) in childre...        Iceland   \n",
       "3  Hepatitis B surface antigen (HBsAg) in childre...        Tunisia   \n",
       "\n",
       "   RATE_PER_100_N  RATE_PER_100_NL  RATE_PER_100_NU  \n",
       "0            0.05             0.03             0.07  \n",
       "1            3.35             2.74             4.13  \n",
       "2            0.15             0.05             0.40  \n",
       "3            0.12             0.10             0.16  "
      ]
     },
     "execution_count": 14,
     "metadata": {},
     "output_type": "execute_result"
    }
   ],
   "source": [
    "df.head(4)"
   ]
  },
  {
   "cell_type": "markdown",
   "metadata": {},
   "source": [
    "### 1. Which country has the highest and lowest rate?"
   ]
  },
  {
   "cell_type": "markdown",
   "metadata": {},
   "source": [
    "### This explains how you are finding the rows with the highest and lowest rates using `idxmax()` and `idxmin()`."
   ]
  },
  {
   "cell_type": "code",
   "execution_count": 15,
   "metadata": {},
   "outputs": [],
   "source": [
    "highest_rate = df.loc[df[\"RATE_PER_100_N\"].idxmax()]\n",
    "lowest_rate = df.loc[df[\"RATE_PER_100_N\"].idxmin()]"
   ]
  },
  {
   "cell_type": "code",
   "execution_count": 16,
   "metadata": {},
   "outputs": [
    {
     "name": "stdout",
     "output_type": "stream",
     "text": [
      "Highest Rate:\n",
      "GEO_NAME_SHORT     South Sudan\n",
      "RATE_PER_100_N           13.03\n",
      "RATE_PER_100_NL          11.29\n",
      "RATE_PER_100_NU          15.14\n",
      "Name: 54, dtype: object\n",
      "\n",
      "Lowest Rate:\n",
      "GEO_NAME_SHORT     Saudi Arabia\n",
      "RATE_PER_100_N              0.0\n",
      "RATE_PER_100_NL             0.0\n",
      "RATE_PER_100_NU             0.0\n",
      "Name: 153, dtype: object\n"
     ]
    }
   ],
   "source": [
    "print(\"Highest Rate:\")\n",
    "print(highest_rate[[\"GEO_NAME_SHORT\", \"RATE_PER_100_N\", \"RATE_PER_100_NL\", \"RATE_PER_100_NU\"]])\n",
    "print(\"\\nLowest Rate:\")\n",
    "print(lowest_rate[[\"GEO_NAME_SHORT\", \"RATE_PER_100_N\", \"RATE_PER_100_NL\", \"RATE_PER_100_NU\"]])"
   ]
  },
  {
   "cell_type": "markdown",
   "metadata": {},
   "source": [
    "##### The row with the highest rate in the \"RATE_PER_100_N\" column corresponds to South Sudan with a rate of 13.03. This row also provides values for \"RATE_PER_100_NL\" and \"RATE_PER_100_NU\"\n",
    "\n",
    "\n",
    "##### The row with the lowest rate in the \"RATE_PER_100_N\" column corresponds to Saudi Arabia with a rate of 0.0. This row also includes values for \"RATE_PER_100_NL\" and \"RATE_PER_100_NU\"."
   ]
  },
  {
   "cell_type": "markdown",
   "metadata": {},
   "source": [
    "### 2. Distribution of rates across all countries"
   ]
  },
  {
   "cell_type": "code",
   "execution_count": 17,
   "metadata": {},
   "outputs": [
    {
     "data": {
      "image/png": "[encoded data removed]",
      "text/plain": [
       "<Figure size 800x500 with 1 Axes>"
      ]
     },
     "metadata": {},
     "output_type": "display_data"
    }
   ],
   "source": [
    "plt.figure(figsize=(8, 5))\n",
    "plt.hist(df[\"RATE_PER_100_N\"], bins=5, color=\"skyblue\", edgecolor=\"black\")\n",
    "plt.title(\"Distribution of Hepatitis B Surface Antigen (HBsAg) Rates in Children Under 5\")\n",
    "plt.xlabel(\"Rate per 100\")\n",
    "plt.ylabel(\"Frequency\")\n",
    "plt.grid(axis=\"y\", linestyle=\"--\", alpha=0.7)\n",
    "plt.show()\n"
   ]
  },
  {
   "cell_type": "markdown",
   "metadata": {},
   "source": [
    "\n",
    "#### Key details from the graph:\n",
    "#### - The y-axis represents the frequency, ranging from 0 to 175.\n",
    "#### - The x-axis represents the rate of HBsAg per 100 children, ranging from 0 to 12.\n",
    "#### - The frequency decreases as the HBsAg rate increases, with the highest frequency observed at the lower end of the rate scale.\n",
    "#### This graph is used to visualize the prevalence of Hepatitis B surface antigen in young children, which is an important indicator of Hepatitis B infection rates in this age group."
   ]
  },
  {
   "cell_type": "markdown",
   "metadata": {},
   "source": [
    "### 4. Ranking countries based on rates"
   ]
  },
  {
   "cell_type": "markdown",
   "metadata": {},
   "source": [
    "#### The code sorts a pandas DataFrame (df) by the \"RATE_PER_100_N\" column in descending order (from highest to lowest) using the sort_values() function. The sorted data is stored in a new variable ranked_df, leaving the original DataFrame (df) unchanged. The argument ascending=False ensures the sorting is done in descending order. You can modify the column name or sorting order as needed for different use cases."
   ]
  },
  {
   "cell_type": "code",
   "execution_count": 26,
   "metadata": {},
   "outputs": [],
   "source": [
    "ranked_df = df.sort_values(\"RATE_PER_100_N\", ascending=False)\n"
   ]
  },
  {
   "cell_type": "code",
   "execution_count": 27,
   "metadata": {},
   "outputs": [
    {
     "name": "stdout",
     "output_type": "stream",
     "text": [
      "               GEO_NAME_SHORT  RATE_PER_100_N\n",
      "54                South Sudan           13.03\n",
      "26                       Chad           10.79\n",
      "53                    Somalia            6.32\n",
      "67          Equatorial Guinea            6.07\n",
      "167                    Guinea            6.07\n",
      "..                        ...             ...\n",
      "138      United Arab Emirates            0.02\n",
      "122                    Poland            0.01\n",
      "105                 Argentina            0.01\n",
      "196  United States of America            0.01\n",
      "153              Saudi Arabia            0.00\n",
      "\n",
      "[201 rows x 2 columns]\n"
     ]
    }
   ],
   "source": [
    "print(ranked_df[[\"GEO_NAME_SHORT\", \"RATE_PER_100_N\"]])"
   ]
  },
  {
   "cell_type": "markdown",
   "metadata": {},
   "source": [
    "## Interpretation of Hepatitis B Surface Antigen (HBsAg) Rates by Country\n",
    "\n",
    "The table below presents the Hepatitis B Surface Antigen (HBsAg) rates per 100 individuals for different countries. The data is sorted by the HBsAg rate in descending order, meaning countries with higher rates appear first.\n",
    "\n",
    "### Data Interpretation:\n",
    "- **Top Countries with the Highest Rates**:\n",
    "  - **South Sudan** has the highest HBsAg rate at **13.03 per 100** individuals.\n",
    "  - Other countries with relatively high rates include **Chad** (10.79), **Somalia** (6.32), and **Equatorial Guinea** (6.07).\n",
    "\n",
    "- **Countries with the Lowest Rates**:\n",
    "  - **Saudi Arabia** has the lowest rate, with **0.00 per 100** individuals.\n",
    "  - Other countries with very low rates include **United States of America**, **Argentina**, **Poland**, and **United Arab Emirates**, all having rates of **0.01 or 0.02 per 100**.\n",
    "\n",
    "### Table:\n",
    "\n",
    "| **GEO_NAME_SHORT**          | **RATE_PER_100_N** |\n",
    "|-----------------------------|--------------------|\n",
    "| South Sudan                 | 13.03              |\n",
    "| Chad                        | 10.79              |\n",
    "| Somalia                     | 6.32               |\n",
    "| Equatorial Guinea           | 6.07               |\n",
    "| Guinea                      | 6.07               |\n",
    "| ...                         | ...                |\n",
    "| United Arab Emirates        | 0.02               |\n",
    "| Poland                      | 0.01               |\n",
    "| Argentina                   | 0.01               |\n",
    "| United States of America    | 0.01               |\n",
    "| Saudi Arabia                | 0.00               |\n",
    "\n",
    "### Usage Notes:\n",
    "- The countries listed with higher rates likely face greater challenges related to Hepatitis B Surface Antigen (HBsAg) in their populations, which may suggest a higher prevalence of Hepatitis B infections.\n",
    "- Countries with very low or zero rates (such as Saudi Arabia, the U.S., and Argentina) may have implemented effective prevention or vaccination programs, leading to lower occurrences of the disease in the population.\n",
    "- Further analysis could explore factors contributing to these variations in rates, such as healthcare infrastructure, vaccination programs, and public health initiatives.\n",
    "\n",
    "---\n"
   ]
  },
  {
   "cell_type": "markdown",
   "metadata": {},
   "source": [
    "### Visualisation"
   ]
  },
  {
   "cell_type": "code",
   "execution_count": 29,
   "metadata": {},
   "outputs": [
    {
     "data": {
      "image/png": "[encoded data removed]",
      "text/plain": [
       "<Figure size 1000x600 with 1 Axes>"
      ]
     },
     "metadata": {},
     "output_type": "display_data"
    }
   ],
   "source": [
    "import matplotlib.pyplot as plt\n",
    "import pandas as pd\n",
    "\n",
    "# Sample data\n",
    "data = {\n",
    "    \"GEO_NAME_SHORT\": [\"Lithuania\", \"Mauritania\", \"Iceland\", \"Tunisia\", \"Ukraine\", \"Zambia\"],\n",
    "    \"RATE_PER_100_N\": [0.05, 3.35, 0.15, 0.12, 0.25, 1.32]\n",
    "}\n",
    "\n",
    "df = pd.DataFrame(data)\n",
    "\n",
    "# Sort and filter top 10 countries by RATE_PER_100_N\n",
    "top_countries = df.sort_values(by=\"RATE_PER_100_N\", ascending=False).head(10)\n",
    "\n",
    "# Plot the vertical bar chart\n",
    "plt.figure(figsize=(10, 6))\n",
    "plt.bar(top_countries[\"GEO_NAME_SHORT\"], top_countries[\"RATE_PER_100_N\"], color=\"orange\", edgecolor=\"black\")\n",
    "\n",
    "# Add chart details\n",
    "plt.title(\"Top 10 Countries by Hepatitis B Surface Antigen Rates in Children Under 5\", fontsize=14)\n",
    "plt.xlabel(\"Country\", fontsize=12)\n",
    "plt.ylabel(\"Rate per 100\", fontsize=12)\n",
    "plt.grid(axis=\"y\", linestyle=\"--\", alpha=0.7)\n",
    "plt.xticks(rotation=45, fontsize=10)\n",
    "plt.tight_layout()\n",
    "plt.show()\n"
   ]
  },
  {
   "cell_type": "markdown",
   "metadata": {},
   "source": [
    "### The outcome of the code is a **vertical bar chart** that displays the top 10 countries based on their **Hepatitis B Surface Antigen (HBsAg)** rates in children under 5 years old. Here's a breakdown of how to interpret the visual result:\n",
    "\n",
    "### Key Features:\n",
    "\n",
    "1. **Country Names (X-Axis)**: The x-axis represents different countries, with each country labeled on the axis. These countries have been sorted by their Hepatitis B Surface Antigen rates in descending order.\n",
    "\n",
    "2. **Hepatitis B Rates (Y-Axis)**: The y-axis represents the **rate of HBsAg per 100 children**. The higher the bar, the higher the rate of Hepatitis B in that country. This means the bars show the **prevalence of HBsAg in children under 5** for each country.\n",
    "\n",
    "3. **Top 10 Countries**:\n",
    "\n",
    "   - The chart visualizes the top 10 countries with the highest rates of HBsAg.\n",
    "   - The **highest rate** appears as the longest bar, and the **lowest rate** appears as the shortest among the top 10.\n",
    "\n",
    "\n",
    "\n",
    "1. **Interpretation of Data**:\n",
    "\n",
    "   - A country with a **taller bar** indicates that its children have a higher prevalence of Hepatitis B Surface Antigen.\n",
    "   - Countries with **shorter bars** indicate a lower prevalence, potentially pointing to more successful health interventions or lower rates of infection.\n",
    "\n",
    "### Overall Interpretation:\n",
    "\n",
    "- This chart provides a **comparative visualization** of the top countries in terms of Hepatitis B Surface Antigen rates in children under 5 years old.\n",
    "- **Public Health Insights**: The chart could offer valuable insights into which countries might need more robust vaccination or health programs for Hepatitis B in children.\n",
    "- The visualization helps policymakers and health organizations quickly identify regions with higher or lower rates, guiding future interventions or resource allocation.\n",
    "\n"
   ]
  }
 ],
 "metadata": {
  "kernelspec": {
   "display_name": "Python 3",
   "language": "python",
   "name": "python3"
  },
  "language_info": {
   "codemirror_mode": {
    "name": "ipython",
    "version": 3
   },
   "file_extension": ".py",
   "mimetype": "text/x-python",
   "name": "python",
   "nbconvert_exporter": "python",
   "pygments_lexer": "ipython3",
   "version": "3.13.1"
  }
 },
 "nbformat": 4,
 "nbformat_minor": 2
}
